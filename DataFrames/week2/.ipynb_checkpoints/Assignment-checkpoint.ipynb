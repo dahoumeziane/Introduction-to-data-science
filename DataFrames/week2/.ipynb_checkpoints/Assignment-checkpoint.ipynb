{
 "cells": [
  {
   "cell_type": "code",
   "execution_count": 16,
   "metadata": {},
   "outputs": [
    {
     "data": {
      "text/plain": [
       "Index(['Unnamed: 0', 'SEQNUMC', 'SEQNUMHH', 'PDAT', 'PROVWT_D', 'RDDWT_D',\n",
       "       'STRATUM', 'YEAR', 'AGECPOXR', 'HAD_CPOX',\n",
       "       ...\n",
       "       'XVRCTY2', 'XVRCTY3', 'XVRCTY4', 'XVRCTY5', 'XVRCTY6', 'XVRCTY7',\n",
       "       'XVRCTY8', 'XVRCTY9', 'INS_STAT2_I', 'INS_BREAK_I'],\n",
       "      dtype='object', length=454)"
      ]
     },
     "execution_count": 16,
     "metadata": {},
     "output_type": "execute_result"
    }
   ],
   "source": [
    "import pandas as pd\n",
    "\n",
    "df=pd.read_csv('NISPUF17.csv')\n",
    "\n",
    "\n",
    "df.columns"
   ]
  },
  {
   "cell_type": "code",
   "execution_count": 19,
   "metadata": {},
   "outputs": [
    {
     "data": {
      "text/plain": [
       "array([4, 3, 1, 2])"
      ]
     },
     "execution_count": 19,
     "metadata": {},
     "output_type": "execute_result"
    }
   ],
   "source": [
    "df['EDUC1'].unique()"
   ]
  },
  {
   "cell_type": "code",
   "execution_count": 28,
   "metadata": {},
   "outputs": [
    {
     "data": {
      "text/plain": [
       "0        4\n",
       "1        3\n",
       "2        3\n",
       "3        4\n",
       "4        1\n",
       "        ..\n",
       "28460    3\n",
       "28461    2\n",
       "28462    3\n",
       "28463    2\n",
       "28464    4\n",
       "Name: EDUC1, Length: 28465, dtype: int64"
      ]
     },
     "execution_count": 28,
     "metadata": {},
     "output_type": "execute_result"
    }
   ],
   "source": [
    "\n",
    "\n",
    "df['EDUC1']"
   ]
  },
  {
   "cell_type": "code",
   "execution_count": 40,
   "metadata": {},
   "outputs": [
    {
     "data": {
      "text/plain": [
       "{'less than high school': 0.10202002459160373,\n",
       " 'high school': 0.172352011241876,\n",
       " 'more than high school but not college': 0.24588090637625154,\n",
       " 'college': 0.47974705779026877}"
      ]
     },
     "execution_count": 40,
     "metadata": {},
     "output_type": "execute_result"
    }
   ],
   "source": [
    "total = 0\n",
    "len(df[df['EDUC1']==1])\n",
    "#0.47974\n",
    "#0.24588\n",
    "#0.17235\n",
    "def proportion_of_education():\n",
    "    # your code goes here\n",
    "    # YOUR CODE HERE\n",
    "    result={\"less than high school\":len(df[df['EDUC1']==1])/len(df['EDUC1']),\n",
    "            \"high school\":len(df[df['EDUC1']==2])/len(df['EDUC1']),\n",
    "            \"more than high school but not college\":len(df[df['EDUC1']==3])/len(df['EDUC1']),\n",
    "            \"college\":len(df[df['EDUC1']==4])/len(df['EDUC1'])\n",
    "           }\n",
    "    return result\n",
    "proportion_of_education()"
   ]
  },
  {
   "cell_type": "code",
   "execution_count": 41,
   "metadata": {},
   "outputs": [
    {
     "data": {
      "text/plain": [
       "array([ 1,  2, 99, 77])"
      ]
     },
     "execution_count": 41,
     "metadata": {},
     "output_type": "execute_result"
    }
   ],
   "source": [
    "df['CBF_01'].unique()"
   ]
  },
  {
   "cell_type": "code",
   "execution_count": 62,
   "metadata": {},
   "outputs": [
    {
     "data": {
      "text/plain": [
       "3        3.0\n",
       "22       0.0\n",
       "28       3.0\n",
       "29       3.0\n",
       "76       2.0\n",
       "        ... \n",
       "28393    1.0\n",
       "28397    4.0\n",
       "28425    1.0\n",
       "28447    1.0\n",
       "28452    2.0\n",
       "Name: P_NUMFLU, Length: 1997, dtype: float64"
      ]
     },
     "execution_count": 62,
     "metadata": {},
     "output_type": "execute_result"
    }
   ],
   "source": [
    "df['P_NUMFLU'].unique()\n",
    "\n",
    "df[(df['CBF_01']==2)]['P_NUMFLU'].dropna()"
   ]
  },
  {
   "cell_type": "code",
   "execution_count": 49,
   "metadata": {},
   "outputs": [
    {
     "data": {
      "text/plain": [
       "array([nan,  3.,  0.,  2.,  1.,  4.,  5.,  6.])"
      ]
     },
     "execution_count": 49,
     "metadata": {},
     "output_type": "execute_result"
    }
   ],
   "source": [
    "df['P_NUMFLU'].unique()\n",
    "\n"
   ]
  },
  {
   "cell_type": "code",
   "execution_count": 71,
   "metadata": {},
   "outputs": [
    {
     "data": {
      "text/html": [
       "<div>\n",
       "<style scoped>\n",
       "    .dataframe tbody tr th:only-of-type {\n",
       "        vertical-align: middle;\n",
       "    }\n",
       "\n",
       "    .dataframe tbody tr th {\n",
       "        vertical-align: top;\n",
       "    }\n",
       "\n",
       "    .dataframe thead th {\n",
       "        text-align: right;\n",
       "    }\n",
       "</style>\n",
       "<table border=\"1\" class=\"dataframe\">\n",
       "  <thead>\n",
       "    <tr style=\"text-align: right;\">\n",
       "      <th></th>\n",
       "      <th>Unnamed: 0</th>\n",
       "      <th>SEQNUMC</th>\n",
       "      <th>SEQNUMHH</th>\n",
       "      <th>PDAT</th>\n",
       "      <th>PROVWT_D</th>\n",
       "      <th>RDDWT_D</th>\n",
       "      <th>STRATUM</th>\n",
       "      <th>YEAR</th>\n",
       "      <th>AGECPOXR</th>\n",
       "      <th>HAD_CPOX</th>\n",
       "      <th>...</th>\n",
       "      <th>XVRCTY2</th>\n",
       "      <th>XVRCTY3</th>\n",
       "      <th>XVRCTY4</th>\n",
       "      <th>XVRCTY5</th>\n",
       "      <th>XVRCTY6</th>\n",
       "      <th>XVRCTY7</th>\n",
       "      <th>XVRCTY8</th>\n",
       "      <th>XVRCTY9</th>\n",
       "      <th>INS_STAT2_I</th>\n",
       "      <th>INS_BREAK_I</th>\n",
       "    </tr>\n",
       "  </thead>\n",
       "  <tbody>\n",
       "    <tr>\n",
       "      <th>10</th>\n",
       "      <td>11</td>\n",
       "      <td>128211</td>\n",
       "      <td>12821</td>\n",
       "      <td>1</td>\n",
       "      <td>335.398714</td>\n",
       "      <td>198.123294</td>\n",
       "      <td>1057</td>\n",
       "      <td>2017</td>\n",
       "      <td>NaN</td>\n",
       "      <td>2</td>\n",
       "      <td>...</td>\n",
       "      <td></td>\n",
       "      <td></td>\n",
       "      <td>NaN</td>\n",
       "      <td>NaN</td>\n",
       "      <td>NaN</td>\n",
       "      <td>NaN</td>\n",
       "      <td>NaN</td>\n",
       "      <td>NaN</td>\n",
       "      <td>1.0</td>\n",
       "      <td>2.0</td>\n",
       "    </tr>\n",
       "    <tr>\n",
       "      <th>12</th>\n",
       "      <td>13</td>\n",
       "      <td>137041</td>\n",
       "      <td>13704</td>\n",
       "      <td>1</td>\n",
       "      <td>82.582116</td>\n",
       "      <td>45.544717</td>\n",
       "      <td>1051</td>\n",
       "      <td>2017</td>\n",
       "      <td>NaN</td>\n",
       "      <td>2</td>\n",
       "      <td>...</td>\n",
       "      <td></td>\n",
       "      <td></td>\n",
       "      <td>NaN</td>\n",
       "      <td>NaN</td>\n",
       "      <td>NaN</td>\n",
       "      <td>NaN</td>\n",
       "      <td>NaN</td>\n",
       "      <td>NaN</td>\n",
       "      <td>1.0</td>\n",
       "      <td>2.0</td>\n",
       "    </tr>\n",
       "    <tr>\n",
       "      <th>16</th>\n",
       "      <td>17</td>\n",
       "      <td>188611</td>\n",
       "      <td>18861</td>\n",
       "      <td>1</td>\n",
       "      <td>345.352030</td>\n",
       "      <td>196.111859</td>\n",
       "      <td>1057</td>\n",
       "      <td>2017</td>\n",
       "      <td>NaN</td>\n",
       "      <td>2</td>\n",
       "      <td>...</td>\n",
       "      <td>VO</td>\n",
       "      <td></td>\n",
       "      <td>NaN</td>\n",
       "      <td>NaN</td>\n",
       "      <td>NaN</td>\n",
       "      <td>NaN</td>\n",
       "      <td>NaN</td>\n",
       "      <td>NaN</td>\n",
       "      <td>1.0</td>\n",
       "      <td>2.0</td>\n",
       "    </tr>\n",
       "    <tr>\n",
       "      <th>19</th>\n",
       "      <td>20</td>\n",
       "      <td>136171</td>\n",
       "      <td>13617</td>\n",
       "      <td>1</td>\n",
       "      <td>223.451930</td>\n",
       "      <td>136.912758</td>\n",
       "      <td>1059</td>\n",
       "      <td>2017</td>\n",
       "      <td>NaN</td>\n",
       "      <td>2</td>\n",
       "      <td>...</td>\n",
       "      <td></td>\n",
       "      <td></td>\n",
       "      <td>NaN</td>\n",
       "      <td>NaN</td>\n",
       "      <td>NaN</td>\n",
       "      <td>NaN</td>\n",
       "      <td>NaN</td>\n",
       "      <td>NaN</td>\n",
       "      <td>1.0</td>\n",
       "      <td>2.0</td>\n",
       "    </tr>\n",
       "    <tr>\n",
       "      <th>20</th>\n",
       "      <td>21</td>\n",
       "      <td>270401</td>\n",
       "      <td>27040</td>\n",
       "      <td>1</td>\n",
       "      <td>249.409773</td>\n",
       "      <td>188.752870</td>\n",
       "      <td>1066</td>\n",
       "      <td>2017</td>\n",
       "      <td>NaN</td>\n",
       "      <td>2</td>\n",
       "      <td>...</td>\n",
       "      <td></td>\n",
       "      <td></td>\n",
       "      <td>NaN</td>\n",
       "      <td>NaN</td>\n",
       "      <td>NaN</td>\n",
       "      <td>NaN</td>\n",
       "      <td>NaN</td>\n",
       "      <td>NaN</td>\n",
       "      <td>2.0</td>\n",
       "      <td>2.0</td>\n",
       "    </tr>\n",
       "    <tr>\n",
       "      <th>...</th>\n",
       "      <td>...</td>\n",
       "      <td>...</td>\n",
       "      <td>...</td>\n",
       "      <td>...</td>\n",
       "      <td>...</td>\n",
       "      <td>...</td>\n",
       "      <td>...</td>\n",
       "      <td>...</td>\n",
       "      <td>...</td>\n",
       "      <td>...</td>\n",
       "      <td>...</td>\n",
       "      <td>...</td>\n",
       "      <td>...</td>\n",
       "      <td>...</td>\n",
       "      <td>...</td>\n",
       "      <td>...</td>\n",
       "      <td>...</td>\n",
       "      <td>...</td>\n",
       "      <td>...</td>\n",
       "      <td>...</td>\n",
       "      <td>...</td>\n",
       "    </tr>\n",
       "    <tr>\n",
       "      <th>28436</th>\n",
       "      <td>28437</td>\n",
       "      <td>79531</td>\n",
       "      <td>7953</td>\n",
       "      <td>1</td>\n",
       "      <td>96.617497</td>\n",
       "      <td>54.463171</td>\n",
       "      <td>2065</td>\n",
       "      <td>2017</td>\n",
       "      <td>NaN</td>\n",
       "      <td>2</td>\n",
       "      <td>...</td>\n",
       "      <td></td>\n",
       "      <td></td>\n",
       "      <td>NaN</td>\n",
       "      <td>NaN</td>\n",
       "      <td>NaN</td>\n",
       "      <td>NaN</td>\n",
       "      <td>NaN</td>\n",
       "      <td>NaN</td>\n",
       "      <td>3.0</td>\n",
       "      <td>NaN</td>\n",
       "    </tr>\n",
       "    <tr>\n",
       "      <th>28437</th>\n",
       "      <td>28438</td>\n",
       "      <td>227671</td>\n",
       "      <td>22767</td>\n",
       "      <td>1</td>\n",
       "      <td>279.162013</td>\n",
       "      <td>120.371768</td>\n",
       "      <td>2052</td>\n",
       "      <td>2017</td>\n",
       "      <td>NaN</td>\n",
       "      <td>2</td>\n",
       "      <td>...</td>\n",
       "      <td></td>\n",
       "      <td></td>\n",
       "      <td>NaN</td>\n",
       "      <td>NaN</td>\n",
       "      <td>NaN</td>\n",
       "      <td>NaN</td>\n",
       "      <td>NaN</td>\n",
       "      <td>NaN</td>\n",
       "      <td>2.0</td>\n",
       "      <td>2.0</td>\n",
       "    </tr>\n",
       "    <tr>\n",
       "      <th>28438</th>\n",
       "      <td>28439</td>\n",
       "      <td>126141</td>\n",
       "      <td>12614</td>\n",
       "      <td>1</td>\n",
       "      <td>216.225073</td>\n",
       "      <td>126.221620</td>\n",
       "      <td>2052</td>\n",
       "      <td>2017</td>\n",
       "      <td>NaN</td>\n",
       "      <td>2</td>\n",
       "      <td>...</td>\n",
       "      <td></td>\n",
       "      <td></td>\n",
       "      <td>NaN</td>\n",
       "      <td>NaN</td>\n",
       "      <td>NaN</td>\n",
       "      <td>NaN</td>\n",
       "      <td>NaN</td>\n",
       "      <td>NaN</td>\n",
       "      <td>3.0</td>\n",
       "      <td>2.0</td>\n",
       "    </tr>\n",
       "    <tr>\n",
       "      <th>28446</th>\n",
       "      <td>28447</td>\n",
       "      <td>193801</td>\n",
       "      <td>19380</td>\n",
       "      <td>1</td>\n",
       "      <td>321.058203</td>\n",
       "      <td>110.009181</td>\n",
       "      <td>2047</td>\n",
       "      <td>2017</td>\n",
       "      <td>NaN</td>\n",
       "      <td>2</td>\n",
       "      <td>...</td>\n",
       "      <td></td>\n",
       "      <td></td>\n",
       "      <td>NaN</td>\n",
       "      <td>NaN</td>\n",
       "      <td>NaN</td>\n",
       "      <td>NaN</td>\n",
       "      <td>NaN</td>\n",
       "      <td>NaN</td>\n",
       "      <td>2.0</td>\n",
       "      <td>2.0</td>\n",
       "    </tr>\n",
       "    <tr>\n",
       "      <th>28449</th>\n",
       "      <td>28450</td>\n",
       "      <td>132081</td>\n",
       "      <td>13208</td>\n",
       "      <td>1</td>\n",
       "      <td>166.681363</td>\n",
       "      <td>96.330007</td>\n",
       "      <td>2059</td>\n",
       "      <td>2017</td>\n",
       "      <td>NaN</td>\n",
       "      <td>2</td>\n",
       "      <td>...</td>\n",
       "      <td></td>\n",
       "      <td></td>\n",
       "      <td>NaN</td>\n",
       "      <td>NaN</td>\n",
       "      <td>NaN</td>\n",
       "      <td>NaN</td>\n",
       "      <td>NaN</td>\n",
       "      <td>NaN</td>\n",
       "      <td>1.0</td>\n",
       "      <td>2.0</td>\n",
       "    </tr>\n",
       "  </tbody>\n",
       "</table>\n",
       "<p>9825 rows × 454 columns</p>\n",
       "</div>"
      ],
      "text/plain": [
       "       Unnamed: 0  SEQNUMC  SEQNUMHH  PDAT    PROVWT_D     RDDWT_D  STRATUM  \\\n",
       "10             11   128211     12821     1  335.398714  198.123294     1057   \n",
       "12             13   137041     13704     1   82.582116   45.544717     1051   \n",
       "16             17   188611     18861     1  345.352030  196.111859     1057   \n",
       "19             20   136171     13617     1  223.451930  136.912758     1059   \n",
       "20             21   270401     27040     1  249.409773  188.752870     1066   \n",
       "...           ...      ...       ...   ...         ...         ...      ...   \n",
       "28436       28437    79531      7953     1   96.617497   54.463171     2065   \n",
       "28437       28438   227671     22767     1  279.162013  120.371768     2052   \n",
       "28438       28439   126141     12614     1  216.225073  126.221620     2052   \n",
       "28446       28447   193801     19380     1  321.058203  110.009181     2047   \n",
       "28449       28450   132081     13208     1  166.681363   96.330007     2059   \n",
       "\n",
       "       YEAR  AGECPOXR  HAD_CPOX  ...  XVRCTY2  XVRCTY3  XVRCTY4  XVRCTY5  \\\n",
       "10     2017       NaN         2  ...                        NaN      NaN   \n",
       "12     2017       NaN         2  ...                        NaN      NaN   \n",
       "16     2017       NaN         2  ...       VO               NaN      NaN   \n",
       "19     2017       NaN         2  ...                        NaN      NaN   \n",
       "20     2017       NaN         2  ...                        NaN      NaN   \n",
       "...     ...       ...       ...  ...      ...      ...      ...      ...   \n",
       "28436  2017       NaN         2  ...                        NaN      NaN   \n",
       "28437  2017       NaN         2  ...                        NaN      NaN   \n",
       "28438  2017       NaN         2  ...                        NaN      NaN   \n",
       "28446  2017       NaN         2  ...                        NaN      NaN   \n",
       "28449  2017       NaN         2  ...                        NaN      NaN   \n",
       "\n",
       "       XVRCTY6  XVRCTY7  XVRCTY8  XVRCTY9  INS_STAT2_I  INS_BREAK_I  \n",
       "10         NaN      NaN      NaN      NaN          1.0          2.0  \n",
       "12         NaN      NaN      NaN      NaN          1.0          2.0  \n",
       "16         NaN      NaN      NaN      NaN          1.0          2.0  \n",
       "19         NaN      NaN      NaN      NaN          1.0          2.0  \n",
       "20         NaN      NaN      NaN      NaN          2.0          2.0  \n",
       "...        ...      ...      ...      ...          ...          ...  \n",
       "28436      NaN      NaN      NaN      NaN          3.0          NaN  \n",
       "28437      NaN      NaN      NaN      NaN          2.0          2.0  \n",
       "28438      NaN      NaN      NaN      NaN          3.0          2.0  \n",
       "28446      NaN      NaN      NaN      NaN          2.0          2.0  \n",
       "28449      NaN      NaN      NaN      NaN          1.0          2.0  \n",
       "\n",
       "[9825 rows x 454 columns]"
      ]
     },
     "execution_count": 71,
     "metadata": {},
     "output_type": "execute_result"
    }
   ],
   "source": [
    "df[(df['CBF_01']==1)&(df['P_NUMFLU']>0.0)]"
   ]
  },
  {
   "cell_type": "code",
   "execution_count": 73,
   "metadata": {},
   "outputs": [
    {
     "data": {
      "text/plain": [
       "0        1\n",
       "1        2\n",
       "2        2\n",
       "3        2\n",
       "4        1\n",
       "        ..\n",
       "28460    2\n",
       "28461    1\n",
       "28462    1\n",
       "28463    2\n",
       "28464    1\n",
       "Name: CBF_01, Length: 28465, dtype: int64"
      ]
     },
     "execution_count": 73,
     "metadata": {},
     "output_type": "execute_result"
    }
   ],
   "source": [
    "df_no=df[(df['CBF_01']==2)&(df['P_NUMFLU']>0.0)]\n",
    "df['CBF_01']"
   ]
  },
  {
   "cell_type": "code",
   "execution_count": 76,
   "metadata": {},
   "outputs": [
    {
     "data": {
      "text/plain": [
       "0        1\n",
       "1        1\n",
       "2        2\n",
       "3        2\n",
       "4        2\n",
       "        ..\n",
       "28460    2\n",
       "28461    2\n",
       "28462    2\n",
       "28463    2\n",
       "28464    2\n",
       "Name: SEX, Length: 28465, dtype: int64"
      ]
     },
     "execution_count": 76,
     "metadata": {},
     "output_type": "execute_result"
    }
   ],
   "source": [
    "df['SEX']"
   ]
  },
  {
   "cell_type": "code",
   "execution_count": 77,
   "metadata": {},
   "outputs": [
    {
     "data": {
      "text/plain": [
       "array([nan,  1.,  0.,  2.,  3.])"
      ]
     },
     "execution_count": 77,
     "metadata": {},
     "output_type": "execute_result"
    }
   ],
   "source": [
    "df['P_NUMVRC'].unique()"
   ]
  },
  {
   "cell_type": "code",
   "execution_count": 78,
   "metadata": {},
   "outputs": [
    {
     "data": {
      "text/plain": [
       "array([ 2,  1, 77, 99])"
      ]
     },
     "execution_count": 78,
     "metadata": {},
     "output_type": "execute_result"
    }
   ],
   "source": [
    "df['HAD_CPOX'].unique()"
   ]
  },
  {
   "cell_type": "code",
   "execution_count": 82,
   "metadata": {},
   "outputs": [
    {
     "data": {
      "text/plain": [
       "0.0077918259335489565"
      ]
     },
     "execution_count": 82,
     "metadata": {},
     "output_type": "execute_result"
    }
   ],
   "source": [
    "df_yes=df[(df['HAD_CPOX']==1)&(df['P_NUMVRC']>=1.0)&(df['SEX']==2)]\n",
    "df_no=df[(df['HAD_CPOX']==2)&(df['P_NUMVRC']>=1.0)&(df['SEX']==2)]\n",
    "len(df_yes)/len(df_no)"
   ]
  },
  {
   "cell_type": "code",
   "execution_count": 83,
   "metadata": {},
   "outputs": [
    {
     "data": {
      "text/plain": [
       "{'male': 0.009675583380762664, 'female': 0.0077918259335489565}"
      ]
     },
     "execution_count": 83,
     "metadata": {},
     "output_type": "execute_result"
    }
   ],
   "source": [
    "def chickenpox_by_sex():\n",
    "    temp = {\"male\":len(df[(df['HAD_CPOX']==1)&(df['P_NUMVRC']>=1.0)&(df['SEX']==1)])\n",
    "           /(len(df[(df['HAD_CPOX']==2)&(df['P_NUMVRC']>=1.0)&(df['SEX']==1)])),\n",
    "           \"female\":len(df[(df['HAD_CPOX']==1)&(df['P_NUMVRC']>=1.0)&(df['SEX']==2)])\n",
    "           /(len(df[(df['HAD_CPOX']==2)&(df['P_NUMVRC']>=1.0)&(df['SEX']==2)]))}\n",
    "    return temp\n",
    "chickenpox_by_sex()"
   ]
  },
  {
   "cell_type": "code",
   "execution_count": 86,
   "metadata": {},
   "outputs": [],
   "source": [
    "def proportion_of_education():\n",
    "    # your code goes here\n",
    "    # YOUR CODE HERE\n",
    "    result={\"less than high school\":len(df[df['EDUC1']==1])/len(df['EDUC1']),\n",
    "            \"high school\":len(df[df['EDUC1']==2])/len(df['EDUC1']),\n",
    "            \"more than high school but not college\":len(df[df['EDUC1']==3])/len(df['EDUC1']),\n",
    "            \"college\":len(df[df['EDUC1']==4])/len(df['EDUC1'])\n",
    "           }\n",
    "    return result\n",
    "  "
   ]
  },
  {
   "cell_type": "code",
   "execution_count": 85,
   "metadata": {},
   "outputs": [],
   "source": [
    "def average_influenza_doses():\n",
    "    tup = (df[(df['CBF_01']==1)]['P_NUMFLU'].mean(),df[(df['CBF_01']==2)]['P_NUMFLU'].mean())\n",
    "    return tup"
   ]
  },
  {
   "cell_type": "code",
   "execution_count": null,
   "metadata": {},
   "outputs": [],
   "source": []
  }
 ],
 "metadata": {
  "kernelspec": {
   "display_name": "Python 3",
   "language": "python",
   "name": "python3"
  },
  "language_info": {
   "codemirror_mode": {
    "name": "ipython",
    "version": 3
   },
   "file_extension": ".py",
   "mimetype": "text/x-python",
   "name": "python",
   "nbconvert_exporter": "python",
   "pygments_lexer": "ipython3",
   "version": "3.8.3"
  }
 },
 "nbformat": 4,
 "nbformat_minor": 4
}
